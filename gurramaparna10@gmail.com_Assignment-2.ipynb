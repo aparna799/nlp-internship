{
 "cells": [
  {
   "cell_type": "markdown",
   "metadata": {
    "id": "PT1uWniEvlxd"
   },
   "source": [
    "# <center>Assignment 2</center>"
   ]
  },
  {
   "cell_type": "markdown",
   "metadata": {
    "id": "mN4JSm_Jvrbh"
   },
   "source": [
    "### Instructions:"
   ]
  },
  {
   "cell_type": "markdown",
   "metadata": {
    "id": "ofB7rlTqwuHc"
   },
   "source": [
    "1. Solve below assignment problems in the colab notebook only and submit the same on or before the deadline.\n",
    "* Naming convention for the colab notebook file should be email_assignment_2.ipynb\n",
    "* Do not copy & paste the code from online. If we do so, you will be rewarded with 0 score for the respective question.\n",
    "* If you have any queries, please reach out the assignments channel in Microsoft Teams.\n",
    "* You can refer to online resources for solving these questions but don’t copy the code."
   ]
  },
  {
   "cell_type": "markdown",
   "metadata": {
    "id": "EyLU5HI5w3Cy"
   },
   "source": [
    "#### Problem : 1"
   ]
  },
  {
   "cell_type": "code",
   "execution_count": 5,
   "metadata": {
    "colab": {
     "base_uri": "https://localhost:8080/"
    },
    "id": "9YlCIXHDw3gu",
    "outputId": "1efad062-1c41-41cf-f50d-5960b9873e64"
   },
   "outputs": [
    {
     "name": "stdout",
     "output_type": "stream",
     "text": [
      "Please enter first number:hi\n",
      "Please enter second number: 1\n",
      "Error: Invalid input.Please give valid integers\n"
     ]
    }
   ],
   "source": [
    "def add_numbers(num_1, num_2):\n",
    "    '''\n",
    "        write a program to add given two numbers with exception handling\n",
    "        INPUT\n",
    "            num_1: input integer\n",
    "            num_2: input integer\n",
    "        OUTPUT\n",
    "            Return the sum of given two numbers if they are valid integers.\n",
    "            Otherwise, return type of Error.\n",
    "        \n",
    "        Note: Replace the None with output in return statement.\n",
    "        Example1:\n",
    "            input:\n",
    "                num1 = 1\n",
    "                num2 = 2\n",
    "            output:\n",
    "            3\n",
    "        Example2:\n",
    "            input:\n",
    "                num1 = 1\n",
    "                num2 = hi\n",
    "            output:\n",
    "                NameError\n",
    "    '''\n",
    "    \n",
    "    # Write your code here\n",
    "    try:\n",
    "      num_1=int(num_1)\n",
    "      num_2=int(num_2)\n",
    "      res = num_1 + num_2\n",
    "      return res\n",
    "    except ValueError:\n",
    "      return \"Error: Invalid input.Please give valid integers\"\n",
    "num_1=input(\"Please enter first number:\")\n",
    "num_2=input(\"Please enter second number: \")\n",
    "\n",
    "try:\n",
    "  result=add_numbers(num_1, num_2)\n",
    "  print(result)\n",
    "except Exception as e:\n",
    "  print(str(e))\n",
    "\n",
    "    \n",
    "    # End of your code block\n",
    "    \n",
    "  "
   ]
  },
  {
   "cell_type": "markdown",
   "metadata": {
    "id": "FlPOj4TYxYxh"
   },
   "source": [
    "#### Problem : 2"
   ]
  },
  {
   "cell_type": "code",
   "execution_count": 3,
   "metadata": {
    "id": "CqYfMH9gxZhx"
   },
   "outputs": [],
   "source": [
    "import json\n",
    "def  Read_file(file_name):\n",
    "    '''\n",
    "        Read the json file and return the \"reviewerName\" category content.\n",
    "        Note: some of the rows don't contain the \"reviewerName\" category. Use exception handling to handle those errors.\n",
    "        INPUT\n",
    "            file_name: name of the json file to read\n",
    "        OUTPUT\n",
    "            return a list of entries of \"reviewerName\" category in all rows.\n",
    "        Example:\n",
    "            INPUT Json Content: {\"reviewerID\": \"AO94DHGC771SJ\", \"asin\": \"0528881469\", \"reviewerName\": \"amazdnu\", \"helpful\": [0, 0], \"reviewText\": \"We got this GPS for my husband who is an (OTR) over the road trucker.\", \"overall\": 5.0, \"summary\": \"Gotta have GPS!\", \"unixReviewTime\": 1370131200, \"reviewTime\": \"06 2, 2013\"}\n",
    "            OUTPUT: [\"amazdnu\"] \n",
    "        \n",
    "        Note: Replace the None with output in return statement.\n",
    "    '''\n",
    "    \n",
    "    # Write your code here\n",
    "    \n",
    "    reviewer_names = []\n",
    "    with open(file_name, 'r') as f:\n",
    "        for line in f:\n",
    "            try:\n",
    "                data = json.loads(line)\n",
    "                reviewer_names.append(data[\"reviewerName\"])\n",
    "            except KeyError:\n",
    "                pass\n",
    "    return reviewer_names\n",
    "print(Read_file('C:/Users/APARNA/OneDrive/Documents/Desktop/data.json'))\n",
    "    "
   ]
  },
  {
   "cell_type": "markdown",
   "metadata": {
    "id": "xkb7Lyp9xlqM"
   },
   "source": [
    "#### Problem : 3"
   ]
  },
  {
   "cell_type": "code",
   "execution_count": 2,
   "metadata": {
    "id": "G667M9m8xmRQ"
   },
   "outputs": [
    {
     "name": "stdout",
     "output_type": "stream",
     "text": [
      "enter number of elements:4\n",
      "enter element:1\n",
      "enter element:2\n",
      "enter element:3\n",
      "enter element:4\n",
      "enter number of counts:4\n",
      "enter count value:1\n",
      "enter count value:2\n",
      "enter count value:3\n",
      "enter count value:4\n",
      "[['1', '1'], ['2', '2'], ['3', '3'], ['4', '4']]\n"
     ]
    }
   ],
   "source": [
    "def combine_lists(words,counts):\n",
    "    '''\n",
    "    Create a list comprehension by pairing elements in given two lists\n",
    "    INPUT\n",
    "        words: list containing the words\n",
    "        counts: list containing the frequencies of words\n",
    "    OUTPUT\n",
    "        combine: list containing the word,count tuple\n",
    "    Example:\n",
    "        input:\n",
    "            words = [\"A\",\"B\",\"C\",\"D\"]\n",
    "            counts = [1,2,3,4]\n",
    "        output:\n",
    "            [[\"A\",1],[\"B\",2],[\"C\",3],[\"D\",4]]\n",
    "    \n",
    "    Note: Replace the None with output in return statement.\n",
    "    '''\n",
    "    \n",
    "    # Write your code here\n",
    "    \n",
    "    list=[]\n",
    "    length=len(words)\n",
    "    list=[]\n",
    "    for i in range(length):\n",
    "        inner_list=[]\n",
    "        inner_list.append(words[i])\n",
    "        inner_list.append(counts[i])\n",
    "        list.append(inner_list)\n",
    "    return list\n",
    "n=int(input(\"enter number of elements:\"))\n",
    "words=[]\n",
    "for j in range(n):\n",
    "    x=input(\"enter element:\")\n",
    "    words.append(x)\n",
    "m=int(input(\"enter number of counts:\"))\n",
    "counts=[]\n",
    "for k in range(m):\n",
    "    y=input(\"enter count value:\")\n",
    "    counts.append(y) \n",
    "print(combine_lists(words,counts))\n",
    "\n",
    "\n",
    "\n",
    "    \n",
    "    # End of your code block\n",
    "    \n",
    "    \n",
    "    "
   ]
  },
  {
   "cell_type": "markdown",
   "metadata": {
    "id": "UGrHgVtV7PTL"
   },
   "source": [
    "#### Problem : 4"
   ]
  },
  {
   "cell_type": "code",
   "execution_count": 4,
   "metadata": {
    "colab": {
     "base_uri": "https://localhost:8080/"
    },
    "id": "gssoz_cp7QUZ",
    "outputId": "3e3ec93c-59c5-4115-940a-cf937854d1ea"
   },
   "outputs": [
    {
     "name": "stdout",
     "output_type": "stream",
     "text": [
      "enter number of keys:4\n",
      "enter keys:a\n",
      "enter keys:b\n",
      "enter keys:c\n",
      "enter keys:d\n",
      "list of keys: ['a', 'b', 'c', 'd']\n",
      "enter number of values:4\n",
      "enter values:appu\n",
      "enter values:balu\n",
      "enter values:chandu\n",
      "enter values:dainu\n",
      "list of keys: ['a', 'b', 'c', 'd']\n",
      "{'a': 'appu', 'b': 'balu', 'c': 'chandu', 'd': 'dainu'}\n"
     ]
    }
   ],
   "source": [
    "def create_dict(keys,values):\n",
    "    '''\n",
    "    Create a dictionary using dictionary comprehension for the given keys and values lists (keys and values lists have same length)\n",
    "    INPUT\n",
    "        keys: list containing dictionary keys\n",
    "        values: list containing dictionary values\n",
    "    OUTPUT\n",
    "        new_dict: dictionary formed with keys and values lists\n",
    "    \n",
    "    Note: Replace the None with output in return statement.\n",
    "    Example 1:\n",
    "        input:\n",
    "            keys = ['a','b','c','dog']\n",
    "            values = ['apple','boy','cat','d']\n",
    "        output:\n",
    "            {'a':'apple','b':'boy','c':'cat','dog':'d'}\n",
    "    '''\n",
    "    \n",
    "    # Write your code here\n",
    "    dictionary={}\n",
    "    for i in range(len(keys)):\n",
    "        dictionary[keys[i]]=values[i]\n",
    "    return dictionary\n",
    "n1=int(input(\"enter number of keys:\"))\n",
    "keys=[]\n",
    "for i in range(n1):\n",
    "    k=input(\"enter keys:\")\n",
    "    keys.append(k)\n",
    "print(\"list of keys:\",keys)\n",
    "n2=int(input(\"enter number of values:\"))\n",
    "values=[]\n",
    "for i in range(n2):\n",
    "    v=str(input(\"enter values:\"))\n",
    "    values.append(v)\n",
    "print(\"list of keys:\",keys)\n",
    "print(create_dict(keys, values))\n",
    "    \n",
    "    # End of your code block\n",
    "    \n",
    "    \n",
    "   "
   ]
  },
  {
   "cell_type": "markdown",
   "metadata": {
    "id": "-0niYWqs7Uxv"
   },
   "source": [
    "#### Problem : 5"
   ]
  },
  {
   "cell_type": "code",
   "execution_count": 36,
   "metadata": {
    "colab": {
     "base_uri": "https://localhost:8080/"
    },
    "id": "4PC7AW-37X2Q",
    "outputId": "b7bb26ea-6e86-4868-dd18-92942090580f"
   },
   "outputs": [
    {
     "name": "stdout",
     "output_type": "stream",
     "text": [
      "10\n"
     ]
    }
   ],
   "source": [
    "def sum_ndarray(elements):\n",
    "    '''\n",
    "    Create an nd array using numpy and add the elements in given list to it and perform the sum operation\n",
    "    INPUT\n",
    "        elements: list of elements\n",
    "    OUTPUT\n",
    "        return the sum of the elements\n",
    "    Example:\n",
    "        input:\n",
    "            elements = [1,2,3,4]\n",
    "        output:\n",
    "            10\n",
    "    Note: Replace the None with output in return statement.\n",
    "    '''\n",
    "    \n",
    "    # Write your code here\n",
    "    sum=0\n",
    "    for i in range(len(elements)+1):\n",
    "      sum=sum+i\n",
    "    return sum\n",
    "elements=np.array([1,2,3,4])\n",
    "print(sum_ndarray(elements))\n",
    "\n",
    "    \n",
    "    # End of your code block\n",
    "    \n",
    "    \n",
    "   "
   ]
  },
  {
   "cell_type": "markdown",
   "metadata": {
    "id": "Xc_plnjb_6Qy"
   },
   "source": [
    "#### Problem : 6"
   ]
  },
  {
   "cell_type": "code",
   "execution_count": 34,
   "metadata": {
    "colab": {
     "base_uri": "https://localhost:8080/"
    },
    "id": "34jHXQtT_7C_",
    "outputId": "4062fb8f-6d54-4f3f-af42-b151e148e597"
   },
   "outputs": [
    {
     "name": "stdout",
     "output_type": "stream",
     "text": [
      "[[ 4.]\n",
      " [12.]]\n"
     ]
    }
   ],
   "source": [
    "import numpy as np\n",
    "def dot_product(matrix,vector):\n",
    "    '''\n",
    "    Find out the dot product for the given matrix and column vector using numpy (don't use np.dot() function. Implement from scratch)\n",
    "    INPUT\n",
    "        matrix: numpy matrix with (m,n) dimension\n",
    "        vector: numpy vector with (n,1) dimension\n",
    "    OUTPUT\n",
    "        return dot product of given matrix and vector\n",
    "    Example:\n",
    "        input:\n",
    "            matrix = np.array([[1,2,3], [4,5,6]])\n",
    "            vector = np.array([[1],[0],[1]])\n",
    "        output:\n",
    "            np.array([[4],[10]])\n",
    "    Note: Replace the None with output in return statement.\n",
    "    '''\n",
    "    \n",
    "    # Write your code here\n",
    "  \n",
    "    \n",
    "    x=matrix.shape[0]\n",
    "    y=matrix.shape[1]\n",
    "    n=vector.shape[0]\n",
    "    res=np.zeros((x,1))\n",
    "    assert y==n,\"column count is equal to the row count\"\n",
    "    res=np.zeros((x,1))\n",
    "    for i in range(x):\n",
    "      for j in range(y):\n",
    "        res[i]+=matrix[i,j]*vector[j]\n",
    "    return res\n",
    "matrix= np.array([[1,2,3],[5,6,7]])\n",
    "vector= np.array([[1],[0],[1]])\n",
    "print(dot_product(matrix,vector))\n",
    "    \n",
    "    # End of your code block\n",
    "    \n",
    "    \n",
    "  "
   ]
  },
  {
   "cell_type": "markdown",
   "metadata": {
    "id": "2Nt9h_9YABFn"
   },
   "source": [
    "#### Problem : 7"
   ]
  },
  {
   "cell_type": "code",
   "execution_count": 13,
   "metadata": {
    "id": "-E9yd3cuABgW"
   },
   "outputs": [
    {
     "name": "stdout",
     "output_type": "stream",
     "text": [
      "['We' 'got' 'this' 'GPS' 'for' 'my' 'husband' 'who' 'is' 'an' '(OTR)'\n",
      " 'over' 'the' 'road' 'trucker.']\n"
     ]
    }
   ],
   "source": [
    "import json\n",
    "import pandas as pd\n",
    "import numpy as np\n",
    "def split_words(file_path):\n",
    "    '''\n",
    "    Read the input json file using pandas, extract \"reviewText\" and split each sentence as words and store them in the np array (split with space)\n",
    "    INPUT\n",
    "        file_path: json file path to read\n",
    "    OUTPUT\n",
    "        return a list of words (use only space as the separator) stored in numpy array.\n",
    "    HINT:\n",
    "        Use json library to read the json file and apply pd.json_normalize() to the result\n",
    "    \n",
    "    Example:\n",
    "        INPUT Json Content: {\"reviewerID\": \"AO94DHGC771SJ\", \"asin\": \"0528881469\", \"reviewerName\": \"amazdnu\", \"helpful\": [0, 0], \"reviewText\": \"We got this GPS for my husband who is an (OTR) over the road trucker.\", \"overall\": 5.0, \"summary\": \"Gotta have GPS!\", \"unixReviewTime\": 1370131200, \"reviewTime\": \"06 2, 2013\"}\n",
    "        OUTPUT: [\"We\",\"got\",\"this\",\"GPS\",\"for\",\"my\",\"husband\",\"who\",\"is\",\"an\",\"(OTR)\",\"over\",\"the\",\"road\",\"trucker.\"]\n",
    "    \n",
    "    \n",
    "    Note: Replace the None with output in return statement.\n",
    "    '''\n",
    "    \n",
    "    # Write your code here\n",
    "    \n",
    "    with open(file_path, 'r') as f:\n",
    "        file = [json.loads(line) for line in f]\n",
    "    dataframe = pd.json_normalize(file)\n",
    "    list1 = dataframe[\"reviewText\"].str.split().values\n",
    "    words = np.concatenate(list1)\n",
    "    return words  \n",
    "print(split_words('C:/Users/APARNA/OneDrive/Documents/Desktop/data.json'))\n",
    "    \n",
    "    # End of your code block\n",
    "    \n",
    "    "
   ]
  },
  {
   "cell_type": "markdown",
   "metadata": {
    "id": "pd-4qcI-AHL8"
   },
   "source": [
    "#### Problem : 8"
   ]
  },
  {
   "cell_type": "code",
   "execution_count": 18,
   "metadata": {
    "id": "gXQ4aLd4AHjH"
   },
   "outputs": [
    {
     "name": "stdout",
     "output_type": "stream",
     "text": [
      "62106\n"
     ]
    }
   ],
   "source": [
    "def read_ratings(file_path):\n",
    "    '''\n",
    "    Load the movie ratings csv file using pandas.\n",
    "    store them in a Dataframe and find the count of movies rating >= 3.5\n",
    "    INPUT\n",
    "        file_path: csv file path to read\n",
    "    OUTPUT\n",
    "        return the count value\n",
    "    \n",
    "    Note: Replace the None with output in return statement.\n",
    "    '''\n",
    "    \n",
    "    # Write your code here\n",
    "    link=\"C:/Users/APARNA/Downloads/movielens.csv\"\n",
    "    data=pd.read_csv(link)\n",
    "    a=data[\"rating\"]>=3.2\n",
    "    return a.sum()\n",
    "print(read_ratings(\"C:/Users/APARNA/Downloads/movielens.csv\"))\n",
    "    \n",
    "    # End of your code block\n",
    "    \n",
    "    \n",
    "    "
   ]
  },
  {
   "cell_type": "markdown",
   "metadata": {
    "id": "9lSEgtDFANJt"
   },
   "source": [
    "#### Problem : 9"
   ]
  },
  {
   "cell_type": "code",
   "execution_count": 4,
   "metadata": {
    "id": "uyDs51sJANf4"
   },
   "outputs": [
    {
     "data": {
      "image/png": "[encoded data removed]",
      "text/plain": [
       "<Figure size 432x288 with 1 Axes>"
      ]
     },
     "metadata": {
      "needs_background": "light"
     },
     "output_type": "display_data"
    },
    {
     "name": "stdout",
     "output_type": "stream",
     "text": [
      "None\n"
     ]
    }
   ],
   "source": [
    "import json\n",
    "import pandas as pd\n",
    "import matplotlib.pyplot as plt\n",
    "from collections import Counter\n",
    "def word_frequencies(file_path):\n",
    "    '''\n",
    "    Read the json file and extract each \"reviewText\" category as pandas data frame and find out the unique word frequencies.\n",
    "    INPUT\n",
    "        file_path: json file path to read \"reviewText\" category text and split into the list of words\n",
    "    OUTPUT\n",
    "        Plot the bar plot for the top 10 frequency word in the list with their frequencies\n",
    "    \n",
    "    Note: You can get words using split_words() function here...\n",
    "    '''\n",
    "    \n",
    "    # Write your code here\n",
    "def split_words(text):\n",
    "    return text.lower().split()\n",
    "def word_frequencies(file_path):\n",
    "    with open(file_path) as f:\n",
    "        data = json.load(f)\n",
    "    reviews = pd.DataFrame(data)['reviewText']\n",
    "    word_counts = Counter()\n",
    "    for review in reviews:\n",
    "        words = split_words(review)\n",
    "        word_counts.update(words)\n",
    "    top_words = dict(word_counts.most_common(10))\n",
    "    plt.bar(top_words.keys(), top_words.values())\n",
    "    plt.show()\n",
    "print(word_frequencies('C:/Users/APARNA/OneDrive/Documents/Desktop/data.json'))\n",
    "    # End of your code block\n",
    "    \n",
    "    \n",
    "    "
   ]
  },
  {
   "cell_type": "code",
   "execution_count": null,
   "metadata": {},
   "outputs": [],
   "source": []
  }
 ],
 "metadata": {
  "colab": {
   "provenance": []
  },
  "kernelspec": {
   "display_name": "Python 3",
   "language": "python",
   "name": "python3"
  },
  "language_info": {
   "codemirror_mode": {
    "name": "ipython",
    "version": 3
   },
   "file_extension": ".py",
   "mimetype": "text/x-python",
   "name": "python",
   "nbconvert_exporter": "python",
   "pygments_lexer": "ipython3",
   "version": "3.7.6"
  }
 },
 "nbformat": 4,
 "nbformat_minor": 1
}
