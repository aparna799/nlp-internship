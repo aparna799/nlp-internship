{
 "cells": [
  {
   "cell_type": "markdown",
   "metadata": {
    "id": "t5DP3gVwIWPi"
   },
   "source": [
    "# <center> Week-1 Assignment Solutions <center>"
   ]
  },
  {
   "cell_type": "markdown",
   "metadata": {
    "id": "yE7cWpPDhZXe"
   },
   "source": [
    "#### Problem No: 1\n"
   ]
  },
  {
   "cell_type": "code",
   "execution_count": 1,
   "metadata": {
    "id": "ahU4eHL7hU19"
   },
   "outputs": [
    {
     "name": "stdout",
     "output_type": "stream",
     "text": [
      "['a', 'p', 'a', 'r', 'n', 'a']\n"
     ]
    }
   ],
   "source": [
    "def str2list(str1):\n",
    "    # write code to add each character in the string into a list format\n",
    "    # don't use any inbuilt methods\n",
    "    # input:\n",
    "        # str1 : input string\n",
    "    # output:\n",
    "        # return list (Replace None with output in return statement)\n",
    "        \n",
    "        \n",
    "    ### Write your code here\n",
    "    list=[]\n",
    "    list[:]=str1\n",
    "    return list\n",
    "str1=\"aparna\"\n",
    "print(str2list(str1))\n",
    "    \n",
    "    \n",
    "    ### End of code"
   ]
  },
  {
   "cell_type": "markdown",
   "metadata": {
    "id": "b41Fw-aahtee"
   },
   "source": [
    "#### Problem No: 2\n"
   ]
  },
  {
   "cell_type": "code",
   "execution_count": 10,
   "metadata": {
    "id": "vp0YgjS1hukE"
   },
   "outputs": [
    {
     "name": "stdout",
     "output_type": "stream",
     "text": [
      "[[1, 6], [2, 7], [3, 8], [4, 9], [5, 10]]\n"
     ]
    }
   ],
   "source": [
    "def listcombine(list1, list2):\n",
    "    # write code to combine two lists into one 2D list\n",
    "    # don't use any inbuilt methods\n",
    "    # input:\n",
    "        # list1 : input list1\n",
    "        # list2 : input list2\n",
    "    # output:\n",
    "        # return the combined list (Replace None with output in return statement)\n",
    "    \n",
    "    \n",
    "    ### Write your code here\n",
    "   \n",
    "    length=len(list1)\n",
    "    two_d=[]\n",
    "    for i in range(length):\n",
    "        list=[]\n",
    "        list.append(list1[i])\n",
    "        list.append(list2[i])\n",
    "        two_d.append(list)\n",
    "    return two_d\n",
    "list1=[1,2,3,4,5]\n",
    "list2=[6,7,8,9,10]\n",
    "print(listcombine(list1,list2))\n",
    "    \n",
    "    \n",
    "    \n",
    "    ### End of code"
   ]
  },
  {
   "cell_type": "markdown",
   "metadata": {
    "id": "tGPexTCviAoF"
   },
   "source": [
    "#### Problem No: 3"
   ]
  },
  {
   "cell_type": "code",
   "execution_count": 19,
   "metadata": {
    "id": "v3UdFh-CiD4u"
   },
   "outputs": [
    {
     "name": "stdout",
     "output_type": "stream",
     "text": [
      "['basara', 'ongole', 'rkvalley', 'srikakulam', 'nuzvid']\n"
     ]
    }
   ],
   "source": [
    "def reverselist(list1):\n",
    "    # write code to reverse the elements in a list\n",
    "    # don't use any inbuilt methods\n",
    "    # input:\n",
    "        # list1 : input list1\n",
    "    # output:\n",
    "        # retun the reversed list (Replace None with output in return statement)\n",
    "\n",
    "\n",
    "    ### Write your code here\n",
    "    reversed_list=[]\n",
    "    reversed_list=list1[::-1]\n",
    "    return reversed_list\n",
    "list1=[\"nuzvid\",\"srikakulam\",\"rkvalley\",\"ongole\",\"basara\"]\n",
    "print(reverselist(list1))\n",
    "    \n",
    "    \n",
    "    ### End of code"
   ]
  },
  {
   "cell_type": "markdown",
   "metadata": {
    "id": "_8B-ZTGkiIz_"
   },
   "source": [
    "#### Problem No: 4"
   ]
  },
  {
   "cell_type": "code",
   "execution_count": 2,
   "metadata": {
    "id": "iNMij6djiMUt"
   },
   "outputs": [
    {
     "name": "stdout",
     "output_type": "stream",
     "text": [
      "enter number of keys:4\n",
      "enter keys:1\n",
      "enter keys:2\n",
      "enter keys:3\n",
      "enter keys:4\n",
      "list of keys: ['1', '2', '3', '4']\n",
      "enter number of values:4\n",
      "enter values:a\n",
      "enter values:b\n",
      "enter values:c\n",
      "enter values:d\n",
      "list of keys: ['1', '2', '3', '4']\n",
      "{'1': 'a', '2': 'b', '3': 'c', '4': 'd'}\n"
     ]
    }
   ],
   "source": [
    "def createdict(keys, values):\n",
    "    # write code to create a dictionary with keys & values lists\n",
    "    # input:\n",
    "        # keys : input list of keys\n",
    "        # values : input list of values\n",
    "    # output:\n",
    "        # return the dictionary (Replace None with output in return statement)\n",
    "\n",
    "\n",
    "    ### Write your code here\n",
    "    dictionary={}\n",
    "    for i in range(len(keys)):\n",
    "        dictionary[keys[i]]=values[i]\n",
    "    return dictionary\n",
    "n1=int(input(\"enter number of keys:\"))\n",
    "keys=[]\n",
    "for i in range(n1):\n",
    "    k=input(\"enter keys:\")\n",
    "    keys.append(k)\n",
    "print(\"list of keys:\",keys)\n",
    "n2=int(input(\"enter number of values:\"))\n",
    "values=[]\n",
    "for i in range(n2):\n",
    "    v=str(input(\"enter values:\"))\n",
    "    values.append(v)\n",
    "print(\"list of keys:\",keys)\n",
    "print(createdict(keys, values))\n",
    "    \n",
    "    \n",
    "    ### End of code"
   ]
  },
  {
   "cell_type": "markdown",
   "metadata": {
    "id": "TYt62cDOiYle"
   },
   "source": [
    "#### Problem No: 5"
   ]
  },
  {
   "cell_type": "code",
   "execution_count": 6,
   "metadata": {
    "id": "YfiJSAz8iZMt"
   },
   "outputs": [
    {
     "name": "stdout",
     "output_type": "stream",
     "text": [
      "enter a string:aparna\n",
      "enter a sub string:a\n",
      "3\n"
     ]
    }
   ],
   "source": [
    "def string_occurence(str1, sub_str):\n",
    "    # Check if a string contains a specific substring given as input.\n",
    "    # If the string search is successful then return the number of occurrences otherwise 0.\n",
    "    # input:\n",
    "        # str1: input string\n",
    "        # stb_str: input substring\n",
    "    # output: \n",
    "        # number of occurences of substring in string (Replace None with output in return statement)\n",
    "    \n",
    "    ### Write your code here\n",
    "    count=str1.count(sub_str)\n",
    "    return count\n",
    "    \n",
    "str1=input(\"enter a string:\")\n",
    "sub_str=input(\"enter a sub string:\")\n",
    "print(string_occurence(str1,sub_str))\n",
    "    \n",
    "    \n",
    "    ### End of code"
   ]
  },
  {
   "cell_type": "markdown",
   "metadata": {
    "id": "bz-ZMJCGifjg"
   },
   "source": [
    "#### Problem No: 6"
   ]
  },
  {
   "cell_type": "code",
   "execution_count": 8,
   "metadata": {
    "id": "h4ru_eWAigLI"
   },
   "outputs": [
    {
     "name": "stdout",
     "output_type": "stream",
     "text": [
      "enter a number to check whether it is a perfect number or not:4\n",
      "Flase\n"
     ]
    }
   ],
   "source": [
    "def perfectnumbercheck(num):\n",
    "    # write code to check given number is perfect or not\n",
    "    # Hint: return True or False\n",
    "    # input:\n",
    "        # num : input number\n",
    "    # output:\n",
    "        # return boolean value (Replace None with output in return statement)\n",
    "\n",
    "\n",
    "    ### Write your code here\n",
    "    sum=0\n",
    "    for i in range(1,num):\n",
    "        if(num%i==0):\n",
    "            sum+=i\n",
    "    if(sum==num):\n",
    "        print(\"True\")\n",
    "    else:\n",
    "        print(\"Flase\")\n",
    "num=int(input(\"enter a number to check whether it is a perfect number or not:\"))\n",
    "perfectnumbercheck(num)\n",
    "    \n",
    "    \n",
    "    ### End of code"
   ]
  },
  {
   "cell_type": "markdown",
   "metadata": {
    "id": "DceitnVmikCm"
   },
   "source": [
    "#### Problem No: 7"
   ]
  },
  {
   "cell_type": "code",
   "execution_count": 13,
   "metadata": {
    "id": "R8ZGyY8LioOE"
   },
   "outputs": [
    {
     "name": "stdout",
     "output_type": "stream",
     "text": [
      "enter the password:Aparna@123\n",
      "True\n"
     ]
    }
   ],
   "source": [
    "def passwordstrengthcheck(password):\n",
    "    # check below conditions for the given password & return True if it pass otherwise False.\n",
    "    # At least 1 small letter [a-z] and 1 capital letter [A-Z].\n",
    "    # At least 1 digit [0-9].\n",
    "    # At least 1 special character from [$#@].\n",
    "    # Minimum length 6 characters.\n",
    "    # Maximum length 16 characters.\n",
    "    # input:\n",
    "        # password: input string\n",
    "    # output:\n",
    "        # return boolean value (Replace None with output in return statement)\n",
    "\n",
    "\n",
    "    ### Write your code here\n",
    "    if len(password)<6 or len(password)>16:\n",
    "        return False\n",
    "    #lower = False\n",
    "    for l in password:\n",
    "        if l.islower():\n",
    "            lower = True\n",
    "            break\n",
    "    else:\n",
    "        return False\n",
    "   # upper = False\n",
    "    for u in password:\n",
    "        if u.isupper():\n",
    "            upper = True\n",
    "            break\n",
    "    else:\n",
    "        return False\n",
    "    #digit = False\n",
    "    for d in password:\n",
    "        if d.isdigit():\n",
    "            digit = True\n",
    "            break\n",
    "    else:\n",
    "        return False\n",
    "    special = False\n",
    "    special_chars = ['$','#','@','%','!','^','*','&']\n",
    "    for spec in password:\n",
    "        if spec in special_chars:\n",
    "            special = True\n",
    "            break\n",
    "    else:\n",
    "        return False\n",
    "    return True\n",
    "password=str(input(\"enter the password:\"))\n",
    "print(passwordstrengthcheck(password))\n",
    "\n",
    "\n",
    "\n",
    "    ### End of code"
   ]
  },
  {
   "cell_type": "markdown",
   "metadata": {
    "id": "3gbKdkHAi0SC"
   },
   "source": [
    "#### Problem No: 8"
   ]
  },
  {
   "cell_type": "code",
   "execution_count": 14,
   "metadata": {
    "id": "xgicShJKi0zA"
   },
   "outputs": [
    {
     "name": "stdout",
     "output_type": "stream",
     "text": [
      "enter a string:aparna\n",
      "{'a': 3, 'p': 1, 'r': 1, 'n': 1}\n"
     ]
    }
   ],
   "source": [
    "def wordfrequency(str1):\n",
    "    # Find out the frequency of words in a given string (prompted by the user) using dictionaries \n",
    "    # words frequency must be case-insensitive\n",
    "    # Hint: return a dictionary with unique words in the string as keys and theier frequency as the values\n",
    "    # input:\n",
    "        # str1 : input str1\n",
    "    # output:\n",
    "        # retrun the dictionary (Replace None with output in return statement)\n",
    "         \n",
    "    ### Write your code here\n",
    "    dictionary={}\n",
    "    for i in str1:\n",
    "        if i in dictionary:\n",
    "            dictionary[i]+=1\n",
    "        else:\n",
    "            dictionary[i]=1\n",
    "    return dictionary\n",
    "str1=str(input(\"enter a string:\"))\n",
    "print(wordfrequency(str1))\n",
    "    \n",
    "\n",
    "    ### End of code"
   ]
  },
  {
   "cell_type": "markdown",
   "metadata": {
    "id": "4VzKnYm9i8uG"
   },
   "source": [
    "#### Problem No: 9"
   ]
  },
  {
   "cell_type": "code",
   "execution_count": 17,
   "metadata": {
    "id": "YOh2XFuqi9SJ"
   },
   "outputs": [
    {
     "name": "stdout",
     "output_type": "stream",
     "text": [
      "enter number integers in list5\n",
      "integers in list:2\n",
      "integers in list:3\n",
      "integers in list:5\n",
      "integers in list:7\n",
      "integers in list:9\n",
      "3\n"
     ]
    }
   ],
   "source": [
    "def primenumcount(list1):\n",
    "    # Write a function that can take a list of integers as function arguments and count the number of prime numbers in it (You can use inbuilt methods).\n",
    "    # If the prime number count below the len(list)/4 then return \"1\"\n",
    "    # If the prime number count between len(list)/4 and len(list)/2 then return \"2\" (boundary points included).\n",
    "    # If the prime number count above the len(list)/2 then return “3”.\n",
    "    # input:\n",
    "        # list1: input list of integers\n",
    "    # output:\n",
    "        # return count of prime (Replace None with output in return statement)\n",
    "         \n",
    "    ### Write your code here\n",
    "    count=0\n",
    "    x=len(list1)\n",
    "    for j in list1:\n",
    "        factor_count=0\n",
    "        for k in range (1,j+1):\n",
    "            if j%k==0:\n",
    "                factor_count+=1\n",
    "        if(factor_count==2):\n",
    "            count+=1\n",
    "    if(count<x/4):\n",
    "        return 1\n",
    "    elif((count>=x/4) & (count<=x/2)):\n",
    "        return 2\n",
    "    elif(count>x/2):\n",
    "        return 3\n",
    "n=int(input(\"enter number integers in list\"))\n",
    "list1=[]\n",
    "for i in range (n):\n",
    "        item=int(input(\"integers in list:\"))\n",
    "        list1.append(item)\n",
    "print(primenumcount(list1)) \n",
    "    \n",
    "\n",
    "    ### End of code"
   ]
  },
  {
   "cell_type": "markdown",
   "metadata": {
    "id": "2BsFdnKyjDGT"
   },
   "source": [
    "#### Problem No: 10"
   ]
  },
  {
   "cell_type": "code",
   "execution_count": 18,
   "metadata": {
    "id": "IyrHjMqFjDmQ"
   },
   "outputs": [
    {
     "name": "stdout",
     "output_type": "stream",
     "text": [
      "enter the string:python is a programming language and easy to learn\n",
      "enter length:2\n",
      "['language', 'python', 'to', 'easy', 'is', 'and', 'programming', 'learn']\n"
     ]
    }
   ],
   "source": [
    "def unique_words(str1, length):\n",
    "    # Write a function that can take a string and an integer as function arguments and display \n",
    "    # the unique words (words are case-insensitive) that can meet the condition i.e. word length >= given integer \n",
    "    # (Don’t use any inbuilt method for removing duplicate words).\n",
    "    \n",
    "    # input:\n",
    "        # str1 : input string\n",
    "        # length : string length\n",
    "    # output:\n",
    "        # list of unique words those meets the above condition (Replace None with output in return statement)\n",
    "         \n",
    "    ### Write your code here\n",
    "    words = str1.lower().split()\n",
    "    uni_words = set()\n",
    "    for i in words:\n",
    "        if len(i) >= length:\n",
    "            uni_words.add(i)\n",
    "    return list(uni_words)\n",
    "str1=str(input(\"enter the string:\"))\n",
    "length=int(input(\"enter length:\"))\n",
    "print(unique_words(str1, length))\n",
    "\n",
    "    \n",
    "    \n",
    "    ### End of code"
   ]
  },
  {
   "cell_type": "code",
   "execution_count": null,
   "metadata": {},
   "outputs": [],
   "source": []
  },
  {
   "cell_type": "code",
   "execution_count": null,
   "metadata": {},
   "outputs": [],
   "source": []
  }
 ],
 "metadata": {
  "colab": {
   "provenance": []
  },
  "kernelspec": {
   "display_name": "Python 3",
   "language": "python",
   "name": "python3"
  },
  "language_info": {
   "codemirror_mode": {
    "name": "ipython",
    "version": 3
   },
   "file_extension": ".py",
   "mimetype": "text/x-python",
   "name": "python",
   "nbconvert_exporter": "python",
   "pygments_lexer": "ipython3",
   "version": "3.7.6"
  }
 },
 "nbformat": 4,
 "nbformat_minor": 1
}
